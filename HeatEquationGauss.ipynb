{
 "cells": [
  {
   "cell_type": "code",
   "execution_count": 1,
   "metadata": {},
   "outputs": [],
   "source": [
    "from fenics import *\n",
    "import numpy as np\n",
    "import matplotlib.pyplot as plt"
   ]
  },
  {
   "cell_type": "code",
   "execution_count": 2,
   "metadata": {},
   "outputs": [],
   "source": [
    "from __future__ import print_function\n",
    "from ipywidgets import interact, interactive, fixed, interact_manual\n",
    "import ipywidgets as widgets"
   ]
  },
  {
   "cell_type": "markdown",
   "metadata": {},
   "source": [
    "# Heat Equation with time dependence\n",
    "\n",
    "$\\begin{aligned}\n",
    "\\frac{\\partial u}{\\partial t} &=\\nabla^{2} u+f & & \\text { in } \\Omega \\times(0, T] \\\\\n",
    "u &=u_{\\mathrm{D}} & & \\text { on } \\partial \\Omega \\times(0, T] \\\\\n",
    "u &=u_{0} & & \\text { at } t=0\n",
    "\\end{aligned}$\n",
    "\n",
    "where, $ f(x, y, t)=\\beta-2-2 \\alpha$"
   ]
  },
  {
   "cell_type": "markdown",
   "metadata": {},
   "source": [
    "## Set parameters\n",
    "\n",
    "\n",
    "+ Time = 2\n",
    "+ Steps = 10\n",
    "+ $\\alpha = 3$\n",
    "+ $\\beta = 1.2$"
   ]
  },
  {
   "cell_type": "code",
   "execution_count": 3,
   "metadata": {},
   "outputs": [],
   "source": [
    "T = 2.0            # final time\n",
    "num_steps = 50     # number of time steps\n",
    "dt = T / num_steps # time step size"
   ]
  },
  {
   "cell_type": "markdown",
   "metadata": {},
   "source": [
    "## Create mesh and boundary condition\n",
    "\n",
    "$u_{\\mathrm{D}}(x, y, t)=1+x^{2}+\\alpha y^{2}+\\beta t$"
   ]
  },
  {
   "cell_type": "code",
   "execution_count": 4,
   "metadata": {},
   "outputs": [],
   "source": [
    "# Create mesh and define function space\n",
    "nx = ny = 30\n",
    "mesh = RectangleMesh(Point(-2,-2), Point(2,2), nx, ny)\n",
    "V = FunctionSpace(mesh, 'P', 1)\n",
    "\n",
    "# Define boundary condition\n",
    "def boundary(x, on_boundary):\n",
    "    return on_boundary\n",
    "\n",
    "bc = DirichletBC(V, Constant(0), boundary)"
   ]
  },
  {
   "cell_type": "markdown",
   "metadata": {},
   "source": [
    "## Initial value and variational form\n",
    "\n",
    "Discretization\n",
    "\n",
    "$$\\left(\\frac{\\partial u}{\\partial t}\\right)^{n+1}=\\nabla^{2} u^{n+1}+f^{n+1}$$\n",
    "\n",
    "\n",
    "$$\\frac{u^{n+1}-u^{n}}{\\Delta t}=\\nabla^{2} u^{n+1}+f^{n+1}$$\n",
    "\n",
    "Using the initial condition $u_0$:\n",
    "\n",
    "$$\\begin{aligned}\n",
    "u^{0} &=u_{0} \\\\\n",
    "u^{n+1}-\\Delta t \\nabla^{2} u^{n+1} &=u^{n}+\\Delta t f^{n+1}, \\quad n=0,1,2, \\ldots\n",
    "\\end{aligned}$$\n",
    "\n",
    "Now, all terms to one side of the equation:\n",
    "\n",
    "\n",
    "$$u^{n+1}-\\Delta t \\nabla^{2} u^{n+1}-u^{n}-\\Delta t f^{n+1}=0, \\quad n=0,1,2, \\ldots$$\n",
    "\n",
    "Writting in the standard notation:\n",
    "\n",
    "$$a(u, v)=L_{n+1}(v)$$\n",
    "\n",
    "where\n",
    "\n",
    "$$\\begin{aligned}\n",
    "a(u, v) &=\\int_{\\Omega}(u v+\\Delta t \\nabla u \\cdot \\nabla v) \\mathrm{d} x \\\\\n",
    "L_{n+1}(v) &=\\int_{\\Omega}\\left(u^{n}+\\Delta t f^{n+1}\\right) v \\mathrm{d} x\n",
    "\\end{aligned}$$\n",
    "\n",
    "Finally, using the abstract formulation:\n",
    "\n",
    "$$F_{n+1}(u ; v)=0$$\n",
    "\n",
    "where\n",
    "\n",
    "$$F_{n+1}(u ; v)=\\int_{\\Omega}\\left(u v+\\Delta t \\nabla u \\cdot \\nabla v-\\left(u^{n}+\\Delta t f^{n+1}\\right) v\\right) \\mathrm{d} x$$\n",
    "\n",
    "We need approximate the initial condition into a variational problem:\n",
    "\n",
    "$$a_{0}(u, v)=L_{0}(v)$$\n",
    "\n",
    "with\n",
    "\n",
    "$$\\begin{aligned}\n",
    "a_{0}(u, v) &=\\int_{\\Omega} u v \\mathrm{d} x \\\\\n",
    "L_{0}(v) &=\\int_{\\Omega} u_{0} v \\mathrm{d} x\n",
    "\\end{aligned}$$"
   ]
  },
  {
   "cell_type": "code",
   "execution_count": 6,
   "metadata": {},
   "outputs": [],
   "source": [
    "# Define initial value\n",
    "u_0 = Expression('exp(-a*pow(x[0], 2) - a*pow(x[1], 2))', degree=2, a=5)\n",
    "u_n = interpolate(u_0, V)\n",
    "\n",
    "# Define variational problem\n",
    "u = TrialFunction(V)\n",
    "v = TestFunction(V)\n",
    "f = Constant(0)\n",
    "\n",
    "F = u*v*dx + dt*dot(grad(u), grad(v))*dx - (u_n + dt*f)*v*dx #Abstract formulation\n",
    "a, L = lhs(F), rhs(F)"
   ]
  },
  {
   "cell_type": "markdown",
   "metadata": {},
   "source": [
    "## Iterate at the time"
   ]
  },
  {
   "cell_type": "code",
   "execution_count": 67,
   "metadata": {
    "scrolled": false
   },
   "outputs": [],
   "source": [
    "vtkfile = File('heat_gaussian/solution.pvd')\n",
    "dict_sol = dict()\n",
    "# Time-stepping\n",
    "u = Function(V)\n",
    "t = 0\n",
    "\n",
    "for n in range(num_steps):\n",
    "    # Update current time\n",
    "    t = round(t + dt, 2)\n",
    "\n",
    "    # Compute solution\n",
    "    solve(a == L, u, bc)  \n",
    "    \n",
    "    # Compute error at vertices\n",
    "    #u_e = interpolate(u_D, V)\n",
    "    #error = np.abs(u_e.vector() - u.vector()).max()\n",
    "    #print(' time = %.2f \\n error = %.3g' % (t, error))\n",
    "    vtkfile << (u, t)\n",
    "    k = u.copy()\n",
    "    dict_sol.update({n:(k, t)})\n",
    "    \n",
    "\n",
    "    # Update previous solution\n",
    "    u_n.assign(u)\n",
    "    #plot(u)\n",
    "    #plt.show()"
   ]
  },
  {
   "cell_type": "code",
   "execution_count": 66,
   "metadata": {},
   "outputs": [
    {
     "output_type": "execute_result",
     "data": {
      "text/plain": "{0: (Coefficient(FunctionSpace(Mesh(VectorElement(FiniteElement('Lagrange', triangle, 1), dim=2), 0), FiniteElement('Lagrange', triangle, 1)), 9832),\n  0.04),\n 1: (Coefficient(FunctionSpace(Mesh(VectorElement(FiniteElement('Lagrange', triangle, 1), dim=2), 0), FiniteElement('Lagrange', triangle, 1)), 9844),\n  0.08),\n 2: (Coefficient(FunctionSpace(Mesh(VectorElement(FiniteElement('Lagrange', triangle, 1), dim=2), 0), FiniteElement('Lagrange', triangle, 1)), 9856),\n  0.12),\n 3: (Coefficient(FunctionSpace(Mesh(VectorElement(FiniteElement('Lagrange', triangle, 1), dim=2), 0), FiniteElement('Lagrange', triangle, 1)), 9868),\n  0.16),\n 4: (Coefficient(FunctionSpace(Mesh(VectorElement(FiniteElement('Lagrange', triangle, 1), dim=2), 0), FiniteElement('Lagrange', triangle, 1)), 9880),\n  0.2),\n 5: (Coefficient(FunctionSpace(Mesh(VectorElement(FiniteElement('Lagrange', triangle, 1), dim=2), 0), FiniteElement('Lagrange', triangle, 1)), 9892),\n  0.24),\n 6: (Coefficient(FunctionSpace(Mesh(VectorElement(FiniteElement('Lagrange', triangle, 1), dim=2), 0), FiniteElement('Lagrange', triangle, 1)), 9904),\n  0.28),\n 7: (Coefficient(FunctionSpace(Mesh(VectorElement(FiniteElement('Lagrange', triangle, 1), dim=2), 0), FiniteElement('Lagrange', triangle, 1)), 9916),\n  0.32),\n 8: (Coefficient(FunctionSpace(Mesh(VectorElement(FiniteElement('Lagrange', triangle, 1), dim=2), 0), FiniteElement('Lagrange', triangle, 1)), 9928),\n  0.36),\n 9: (Coefficient(FunctionSpace(Mesh(VectorElement(FiniteElement('Lagrange', triangle, 1), dim=2), 0), FiniteElement('Lagrange', triangle, 1)), 9940),\n  0.4),\n 10: (Coefficient(FunctionSpace(Mesh(VectorElement(FiniteElement('Lagrange', triangle, 1), dim=2), 0), FiniteElement('Lagrange', triangle, 1)), 9952),\n  0.44),\n 11: (Coefficient(FunctionSpace(Mesh(VectorElement(FiniteElement('Lagrange', triangle, 1), dim=2), 0), FiniteElement('Lagrange', triangle, 1)), 9964),\n  0.48),\n 12: (Coefficient(FunctionSpace(Mesh(VectorElement(FiniteElement('Lagrange', triangle, 1), dim=2), 0), FiniteElement('Lagrange', triangle, 1)), 9976),\n  0.52),\n 13: (Coefficient(FunctionSpace(Mesh(VectorElement(FiniteElement('Lagrange', triangle, 1), dim=2), 0), FiniteElement('Lagrange', triangle, 1)), 9988),\n  0.56),\n 14: (Coefficient(FunctionSpace(Mesh(VectorElement(FiniteElement('Lagrange', triangle, 1), dim=2), 0), FiniteElement('Lagrange', triangle, 1)), 10000),\n  0.6),\n 15: (Coefficient(FunctionSpace(Mesh(VectorElement(FiniteElement('Lagrange', triangle, 1), dim=2), 0), FiniteElement('Lagrange', triangle, 1)), 10012),\n  0.64),\n 16: (Coefficient(FunctionSpace(Mesh(VectorElement(FiniteElement('Lagrange', triangle, 1), dim=2), 0), FiniteElement('Lagrange', triangle, 1)), 10024),\n  0.68),\n 17: (Coefficient(FunctionSpace(Mesh(VectorElement(FiniteElement('Lagrange', triangle, 1), dim=2), 0), FiniteElement('Lagrange', triangle, 1)), 10036),\n  0.72),\n 18: (Coefficient(FunctionSpace(Mesh(VectorElement(FiniteElement('Lagrange', triangle, 1), dim=2), 0), FiniteElement('Lagrange', triangle, 1)), 10048),\n  0.76),\n 19: (Coefficient(FunctionSpace(Mesh(VectorElement(FiniteElement('Lagrange', triangle, 1), dim=2), 0), FiniteElement('Lagrange', triangle, 1)), 10060),\n  0.8),\n 20: (Coefficient(FunctionSpace(Mesh(VectorElement(FiniteElement('Lagrange', triangle, 1), dim=2), 0), FiniteElement('Lagrange', triangle, 1)), 10072),\n  0.84),\n 21: (Coefficient(FunctionSpace(Mesh(VectorElement(FiniteElement('Lagrange', triangle, 1), dim=2), 0), FiniteElement('Lagrange', triangle, 1)), 10084),\n  0.88),\n 22: (Coefficient(FunctionSpace(Mesh(VectorElement(FiniteElement('Lagrange', triangle, 1), dim=2), 0), FiniteElement('Lagrange', triangle, 1)), 10096),\n  0.92),\n 23: (Coefficient(FunctionSpace(Mesh(VectorElement(FiniteElement('Lagrange', triangle, 1), dim=2), 0), FiniteElement('Lagrange', triangle, 1)), 10108),\n  0.96),\n 24: (Coefficient(FunctionSpace(Mesh(VectorElement(FiniteElement('Lagrange', triangle, 1), dim=2), 0), FiniteElement('Lagrange', triangle, 1)), 10120),\n  1.0),\n 25: (Coefficient(FunctionSpace(Mesh(VectorElement(FiniteElement('Lagrange', triangle, 1), dim=2), 0), FiniteElement('Lagrange', triangle, 1)), 10132),\n  1.04),\n 26: (Coefficient(FunctionSpace(Mesh(VectorElement(FiniteElement('Lagrange', triangle, 1), dim=2), 0), FiniteElement('Lagrange', triangle, 1)), 10144),\n  1.08),\n 27: (Coefficient(FunctionSpace(Mesh(VectorElement(FiniteElement('Lagrange', triangle, 1), dim=2), 0), FiniteElement('Lagrange', triangle, 1)), 10156),\n  1.12),\n 28: (Coefficient(FunctionSpace(Mesh(VectorElement(FiniteElement('Lagrange', triangle, 1), dim=2), 0), FiniteElement('Lagrange', triangle, 1)), 10168),\n  1.16),\n 29: (Coefficient(FunctionSpace(Mesh(VectorElement(FiniteElement('Lagrange', triangle, 1), dim=2), 0), FiniteElement('Lagrange', triangle, 1)), 10180),\n  1.2),\n 30: (Coefficient(FunctionSpace(Mesh(VectorElement(FiniteElement('Lagrange', triangle, 1), dim=2), 0), FiniteElement('Lagrange', triangle, 1)), 10192),\n  1.24),\n 31: (Coefficient(FunctionSpace(Mesh(VectorElement(FiniteElement('Lagrange', triangle, 1), dim=2), 0), FiniteElement('Lagrange', triangle, 1)), 10204),\n  1.28),\n 32: (Coefficient(FunctionSpace(Mesh(VectorElement(FiniteElement('Lagrange', triangle, 1), dim=2), 0), FiniteElement('Lagrange', triangle, 1)), 10216),\n  1.32),\n 33: (Coefficient(FunctionSpace(Mesh(VectorElement(FiniteElement('Lagrange', triangle, 1), dim=2), 0), FiniteElement('Lagrange', triangle, 1)), 10228),\n  1.36),\n 34: (Coefficient(FunctionSpace(Mesh(VectorElement(FiniteElement('Lagrange', triangle, 1), dim=2), 0), FiniteElement('Lagrange', triangle, 1)), 10240),\n  1.4),\n 35: (Coefficient(FunctionSpace(Mesh(VectorElement(FiniteElement('Lagrange', triangle, 1), dim=2), 0), FiniteElement('Lagrange', triangle, 1)), 10252),\n  1.44),\n 36: (Coefficient(FunctionSpace(Mesh(VectorElement(FiniteElement('Lagrange', triangle, 1), dim=2), 0), FiniteElement('Lagrange', triangle, 1)), 10264),\n  1.48),\n 37: (Coefficient(FunctionSpace(Mesh(VectorElement(FiniteElement('Lagrange', triangle, 1), dim=2), 0), FiniteElement('Lagrange', triangle, 1)), 10276),\n  1.52),\n 38: (Coefficient(FunctionSpace(Mesh(VectorElement(FiniteElement('Lagrange', triangle, 1), dim=2), 0), FiniteElement('Lagrange', triangle, 1)), 10288),\n  1.56),\n 39: (Coefficient(FunctionSpace(Mesh(VectorElement(FiniteElement('Lagrange', triangle, 1), dim=2), 0), FiniteElement('Lagrange', triangle, 1)), 10300),\n  1.6),\n 40: (Coefficient(FunctionSpace(Mesh(VectorElement(FiniteElement('Lagrange', triangle, 1), dim=2), 0), FiniteElement('Lagrange', triangle, 1)), 10312),\n  1.64),\n 41: (Coefficient(FunctionSpace(Mesh(VectorElement(FiniteElement('Lagrange', triangle, 1), dim=2), 0), FiniteElement('Lagrange', triangle, 1)), 10324),\n  1.68),\n 42: (Coefficient(FunctionSpace(Mesh(VectorElement(FiniteElement('Lagrange', triangle, 1), dim=2), 0), FiniteElement('Lagrange', triangle, 1)), 10336),\n  1.72),\n 43: (Coefficient(FunctionSpace(Mesh(VectorElement(FiniteElement('Lagrange', triangle, 1), dim=2), 0), FiniteElement('Lagrange', triangle, 1)), 10348),\n  1.76),\n 44: (Coefficient(FunctionSpace(Mesh(VectorElement(FiniteElement('Lagrange', triangle, 1), dim=2), 0), FiniteElement('Lagrange', triangle, 1)), 10360),\n  1.8),\n 45: (Coefficient(FunctionSpace(Mesh(VectorElement(FiniteElement('Lagrange', triangle, 1), dim=2), 0), FiniteElement('Lagrange', triangle, 1)), 10372),\n  1.84),\n 46: (Coefficient(FunctionSpace(Mesh(VectorElement(FiniteElement('Lagrange', triangle, 1), dim=2), 0), FiniteElement('Lagrange', triangle, 1)), 10384),\n  1.88),\n 47: (Coefficient(FunctionSpace(Mesh(VectorElement(FiniteElement('Lagrange', triangle, 1), dim=2), 0), FiniteElement('Lagrange', triangle, 1)), 10396),\n  1.92),\n 48: (Coefficient(FunctionSpace(Mesh(VectorElement(FiniteElement('Lagrange', triangle, 1), dim=2), 0), FiniteElement('Lagrange', triangle, 1)), 10408),\n  1.96),\n 49: (Coefficient(FunctionSpace(Mesh(VectorElement(FiniteElement('Lagrange', triangle, 1), dim=2), 0), FiniteElement('Lagrange', triangle, 1)), 10420),\n  2.0)}"
     },
     "metadata": {},
     "execution_count": 66
    }
   ],
   "source": [
    "dict_sol"
   ]
  },
  {
   "cell_type": "code",
   "execution_count": 65,
   "metadata": {},
   "outputs": [
    {
     "output_type": "display_data",
     "data": {
      "text/plain": "interactive(children=(IntSlider(value=24, description='t', max=49), Output()), _dom_classes=('widget-interact'…",
      "application/vnd.jupyter.widget-view+json": {
       "version_major": 2,
       "version_minor": 0,
       "model_id": "9e918b52834a4c73bd5732c83262dc4f"
      }
     },
     "metadata": {}
    }
   ],
   "source": [
    "@interact\n",
    "def show_solution_time(t = (0,49)):\n",
    "    return plot(dict_sol[t][0])"
   ]
  },
  {
   "cell_type": "code",
   "execution_count": null,
   "metadata": {},
   "outputs": [],
   "source": []
  }
 ],
 "metadata": {
  "kernelspec": {
   "display_name": "Python 3",
   "language": "python",
   "name": "python3"
  },
  "language_info": {
   "codemirror_mode": {
    "name": "ipython",
    "version": 3
   },
   "file_extension": ".py",
   "mimetype": "text/x-python",
   "name": "python",
   "nbconvert_exporter": "python",
   "pygments_lexer": "ipython3",
   "version": "3.6.9-final"
  }
 },
 "nbformat": 4,
 "nbformat_minor": 4
}