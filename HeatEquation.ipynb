{
 "cells": [
  {
   "cell_type": "code",
   "execution_count": 1,
   "metadata": {},
   "outputs": [],
   "source": [
    "from fenics import *\n",
    "import numpy as np\n",
    "import matplotlib.pyplot as plt"
   ]
  },
  {
   "cell_type": "code",
   "execution_count": 2,
   "metadata": {},
   "outputs": [],
   "source": [
    "from __future__ import print_function\n",
    "from ipywidgets import interact, interactive, fixed, interact_manual\n",
    "import ipywidgets as widgets"
   ]
  },
  {
   "cell_type": "markdown",
   "metadata": {},
   "source": [
    "# Heat Equation with time dependence\n",
    "\n",
    "$\\begin{aligned}\n",
    "\\frac{\\partial u}{\\partial t} &=\\nabla^{2} u+f & & \\text { in } \\Omega \\times(0, T] \\\\\n",
    "u &=u_{\\mathrm{D}} & & \\text { on } \\partial \\Omega \\times(0, T] \\\\\n",
    "u &=u_{0} & & \\text { at } t=0\n",
    "\\end{aligned}$\n",
    "\n",
    "where, $ f(x, y, t)=\\beta-2-2 \\alpha$"
   ]
  },
  {
   "cell_type": "markdown",
   "metadata": {},
   "source": [
    "## Set parameters\n",
    "\n",
    "\n",
    "+ Time = 2\n",
    "+ Steps = 10\n",
    "+ $\\alpha = 3$\n",
    "+ $\\beta = 1.2$"
   ]
  },
  {
   "cell_type": "code",
   "execution_count": 3,
   "metadata": {},
   "outputs": [],
   "source": [
    "T = 2            # final time\n",
    "num_steps = 5     # number of time steps\n",
    "dt = T / num_steps # time step size\n",
    "alpha = 3          # parameter alpha\n",
    "beta = 1.2         # parameter beta"
   ]
  },
  {
   "cell_type": "markdown",
   "metadata": {},
   "source": [
    "## Create mesh and boundary condition\n",
    "\n",
    "$u_{\\mathrm{D}}(x, y, t)=1+x^{2}+\\alpha y^{2}+\\beta t$"
   ]
  },
  {
   "cell_type": "code",
   "execution_count": 4,
   "metadata": {},
   "outputs": [],
   "source": [
    "# Create mesh and define function space\n",
    "nx = ny = 800\n",
    "mesh = UnitSquareMesh(nx, ny)\n",
    "V = FunctionSpace(mesh, 'P', 1)\n",
    "\n",
    "# Define boundary condition\n",
    "u_D = Expression('1 + x[0]*x[0] + alpha*x[1]*x[1] + beta*t', degree=2, alpha=alpha, beta=beta, t=0)\n",
    "\n",
    "def boundary(x, on_boundary):\n",
    "    return on_boundary\n",
    "\n",
    "bc = DirichletBC(V, u_D, boundary)"
   ]
  },
  {
   "cell_type": "markdown",
   "metadata": {},
   "source": [
    "## Initial value and variational form\n",
    "\n",
    "Discretization\n",
    "\n",
    "$$\\left(\\frac{\\partial u}{\\partial t}\\right)^{n+1}=\\nabla^{2} u^{n+1}+f^{n+1}$$\n",
    "\n",
    "\n",
    "$$\\frac{u^{n+1}-u^{n}}{\\Delta t}=\\nabla^{2} u^{n+1}+f^{n+1}$$\n",
    "\n",
    "Using the initial condition $u_0$:\n",
    "\n",
    "$$\\begin{aligned}\n",
    "u^{0} &=u_{0} \\\\\n",
    "u^{n+1}-\\Delta t \\nabla^{2} u^{n+1} &=u^{n}+\\Delta t f^{n+1}, \\quad n=0,1,2, \\ldots\n",
    "\\end{aligned}$$\n",
    "\n",
    "Now, all terms to one side of the equation:\n",
    "\n",
    "\n",
    "$$u^{n+1}-\\Delta t \\nabla^{2} u^{n+1}-u^{n}-\\Delta t f^{n+1}=0, \\quad n=0,1,2, \\ldots$$\n",
    "\n",
    "Writting in the standard notation:\n",
    "\n",
    "$$a(u, v)=L_{n+1}(v)$$\n",
    "\n",
    "where\n",
    "\n",
    "$$\\begin{aligned}\n",
    "a(u, v) &=\\int_{\\Omega}(u v+\\Delta t \\nabla u \\cdot \\nabla v) \\mathrm{d} x \\\\\n",
    "L_{n+1}(v) &=\\int_{\\Omega}\\left(u^{n}+\\Delta t f^{n+1}\\right) v \\mathrm{d} x\n",
    "\\end{aligned}$$\n",
    "\n",
    "Finally, using the abstract formulation:\n",
    "\n",
    "$$F_{n+1}(u ; v)=0$$\n",
    "\n",
    "where\n",
    "\n",
    "$$F_{n+1}(u ; v)=\\int_{\\Omega}\\left(u v+\\Delta t \\nabla u \\cdot \\nabla v-\\left(u^{n}+\\Delta t f^{n+1}\\right) v\\right) \\mathrm{d} x$$\n",
    "\n",
    "We need approximate the initial condition into a variational problem:\n",
    "\n",
    "$$a_{0}(u, v)=L_{0}(v)$$\n",
    "\n",
    "with\n",
    "\n",
    "$$\\begin{aligned}\n",
    "a_{0}(u, v) &=\\int_{\\Omega} u v \\mathrm{d} x \\\\\n",
    "L_{0}(v) &=\\int_{\\Omega} u_{0} v \\mathrm{d} x\n",
    "\\end{aligned}$$"
   ]
  },
  {
   "cell_type": "code",
   "execution_count": 5,
   "metadata": {},
   "outputs": [],
   "source": [
    "# Define initial value\n",
    "u_n = interpolate(u_D, V)\n",
    "#u_n = project(u_D, V)\n",
    "\n",
    "# Define variational problem\n",
    "u = TrialFunction(V)\n",
    "v = TestFunction(V)\n",
    "f = Constant(beta - 2 - 2*alpha)\n",
    "\n",
    "F = u*v*dx + dt*dot(grad(u), grad(v))*dx - (u_n + dt*f)*v*dx #Abstract formulation\n",
    "a, L = lhs(F), rhs(F)"
   ]
  },
  {
   "cell_type": "markdown",
   "metadata": {},
   "source": [
    "## Iterate at the time"
   ]
  },
  {
   "cell_type": "code",
   "execution_count": null,
   "metadata": {
    "scrolled": false
   },
   "outputs": [],
   "source": [
    "# Time-stepping\n",
    "u = Function(V)\n",
    "t = 0\n",
    "\n",
    "for n in range(num_steps):\n",
    "    # Update current time\n",
    "    t = round(t + dt, 2)\n",
    "    u_D.t = t #Update time parameter at the boundary\n",
    "\n",
    "    # Compute solution\n",
    "    solve(a == L, u, bc)  \n",
    "    \n",
    "    # Compute error at vertices\n",
    "    u_e = interpolate(u_D, V)\n",
    "    error = np.abs(u_e.vector() - u.vector()).max()\n",
    "    print(' time = %.2f \\n error = %.3g' % (t, error))\n",
    "\n",
    "    # Update previous solution\n",
    "    u_n.assign(u)\n",
    "    plot(u)\n",
    "    plt.show()"
   ]
  },
  {
   "cell_type": "code",
   "execution_count": null,
   "metadata": {},
   "outputs": [],
   "source": [
    "@interact\n",
    "def show_solution_time(t = (dt,T,dt)):\n",
    "    u_D.t = t\n",
    "    solve(a == L, u, bc)\n",
    "    u_n.assign(u)\n",
    "    return plot(u)"
   ]
  },
  {
   "cell_type": "code",
   "execution_count": null,
   "metadata": {},
   "outputs": [],
   "source": []
  }
 ],
 "metadata": {
  "kernelspec": {
   "display_name": "Python 3",
   "language": "python",
   "name": "python3"
  },
  "language_info": {
   "codemirror_mode": {
    "name": "ipython",
    "version": 3
   },
   "file_extension": ".py",
   "mimetype": "text/x-python",
   "name": "python",
   "nbconvert_exporter": "python",
   "pygments_lexer": "ipython3",
   "version": "3.6.9"
  }
 },
 "nbformat": 4,
 "nbformat_minor": 4
}
