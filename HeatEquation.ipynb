{
 "cells": [
  {
   "cell_type": "code",
   "execution_count": 1,
   "metadata": {},
   "outputs": [],
   "source": [
    "from fenics import *\n",
    "import numpy as np\n",
    "import matplotlib.pyplot as plt"
   ]
  },
  {
   "cell_type": "code",
   "execution_count": 2,
   "metadata": {},
   "outputs": [],
   "source": [
    "from __future__ import print_function\n",
    "from ipywidgets import interact, interactive, fixed, interact_manual\n",
    "import ipywidgets as widgets"
   ]
  },
  {
   "cell_type": "markdown",
   "metadata": {},
   "source": [
    "# Heat Equation with time dependence\n",
    "\n",
    "$\\begin{aligned}\n",
    "\\frac{\\partial u}{\\partial t} &=\\nabla^{2} u+f & & \\text { in } \\Omega \\times(0, T] \\\\\n",
    "u &=u_{\\mathrm{D}} & & \\text { on } \\partial \\Omega \\times(0, T] \\\\\n",
    "u &=u_{0} & & \\text { at } t=0\n",
    "\\end{aligned}$\n",
    "\n",
    "where, $ f(x, y, t)=\\beta-2-2 \\alpha$"
   ]
  },
  {
   "cell_type": "markdown",
   "metadata": {},
   "source": [
    "## Set parameters\n",
    "\n",
    "\n",
    "+ Time = 2\n",
    "+ Steps = 10\n",
    "+ $\\alpha = 3$\n",
    "+ $\\beta = 1.2$"
   ]
  },
  {
   "cell_type": "code",
   "execution_count": 3,
   "metadata": {},
   "outputs": [],
   "source": [
    "T = 20            # final time\n",
    "num_steps = 50     # number of time steps\n",
    "dt = T / num_steps # time step size\n",
    "alpha = 3          # parameter alpha\n",
    "beta = 1.2         # parameter beta"
   ]
  },
  {
   "cell_type": "markdown",
   "metadata": {},
   "source": [
    "## Create mesh and boundary condition\n",
    "\n",
    "$u_{\\mathrm{D}}(x, y, t)=1+x^{2}+\\alpha y^{2}+\\beta t$"
   ]
  },
  {
   "cell_type": "code",
   "execution_count": 4,
   "metadata": {},
   "outputs": [],
   "source": [
    "# Create mesh and define function space\n",
    "nx = ny = 80\n",
    "mesh = UnitSquareMesh(nx, ny)\n",
    "V = FunctionSpace(mesh, 'P', 1)\n",
    "\n",
    "# Define boundary condition\n",
    "u_D = Expression('1 + x[0]*x[0] + alpha*x[1]*x[1] + beta*t', degree=2, alpha=alpha, beta=beta, t=0)\n",
    "\n",
    "def boundary(x, on_boundary):\n",
    "    return on_boundary\n",
    "\n",
    "bc = DirichletBC(V, u_D, boundary)"
   ]
  },
  {
   "cell_type": "markdown",
   "metadata": {},
   "source": [
    "## Initial value and variational form\n",
    "\n",
    "Discretization\n",
    "\n",
    "$$\\left(\\frac{\\partial u}{\\partial t}\\right)^{n+1}=\\nabla^{2} u^{n+1}+f^{n+1}$$\n",
    "\n",
    "\n",
    "$$\\frac{u^{n+1}-u^{n}}{\\Delta t}=\\nabla^{2} u^{n+1}+f^{n+1}$$\n",
    "\n",
    "Using the initial condition $u_0$:\n",
    "\n",
    "$$\\begin{aligned}\n",
    "u^{0} &=u_{0} \\\\\n",
    "u^{n+1}-\\Delta t \\nabla^{2} u^{n+1} &=u^{n}+\\Delta t f^{n+1}, \\quad n=0,1,2, \\ldots\n",
    "\\end{aligned}$$\n",
    "\n",
    "Now, all terms to one side of the equation:\n",
    "\n",
    "\n",
    "$$u^{n+1}-\\Delta t \\nabla^{2} u^{n+1}-u^{n}-\\Delta t f^{n+1}=0, \\quad n=0,1,2, \\ldots$$\n",
    "\n",
    "Writting in the standard notation:\n",
    "\n",
    "$$a(u, v)=L_{n+1}(v)$$\n",
    "\n",
    "where\n",
    "\n",
    "$$\\begin{aligned}\n",
    "a(u, v) &=\\int_{\\Omega}(u v+\\Delta t \\nabla u \\cdot \\nabla v) \\mathrm{d} x \\\\\n",
    "L_{n+1}(v) &=\\int_{\\Omega}\\left(u^{n}+\\Delta t f^{n+1}\\right) v \\mathrm{d} x\n",
    "\\end{aligned}$$\n",
    "\n",
    "Finally, using the abstract formulation:\n",
    "\n",
    "$$F_{n+1}(u ; v)=0$$\n",
    "\n",
    "where\n",
    "\n",
    "$$F_{n+1}(u ; v)=\\int_{\\Omega}\\left(u v+\\Delta t \\nabla u \\cdot \\nabla v-\\left(u^{n}+\\Delta t f^{n+1}\\right) v\\right) \\mathrm{d} x$$\n",
    "\n",
    "We need approximate the initial condition into a variational problem:\n",
    "\n",
    "$$a_{0}(u, v)=L_{0}(v)$$\n",
    "\n",
    "with\n",
    "\n",
    "$$\\begin{aligned}\n",
    "a_{0}(u, v) &=\\int_{\\Omega} u v \\mathrm{d} x \\\\\n",
    "L_{0}(v) &=\\int_{\\Omega} u_{0} v \\mathrm{d} x\n",
    "\\end{aligned}$$"
   ]
  },
  {
   "cell_type": "code",
   "execution_count": 5,
   "metadata": {},
   "outputs": [],
   "source": [
    "# Define initial value\n",
    "u_n = interpolate(u_D, V)\n",
    "#u_n = project(u_D, V)\n",
    "\n",
    "# Define variational problem\n",
    "u = TrialFunction(V)\n",
    "v = TestFunction(V)\n",
    "f = Constant(beta - 2 - 2*alpha)\n",
    "\n",
    "F = u*v*dx + dt*dot(grad(u), grad(v))*dx - (u_n + dt*f)*v*dx #Abstract formulation\n",
    "a, L = lhs(F), rhs(F)"
   ]
  },
  {
   "cell_type": "markdown",
   "metadata": {},
   "source": [
    "## Iterate at the time"
   ]
  },
  {
   "cell_type": "code",
   "execution_count": 6,
   "metadata": {
    "scrolled": false
   },
   "outputs": [
    {
     "name": "stdout",
     "output_type": "stream",
     "text": [
      " time = 0.40 \n",
      " error = 3.57e-13\n",
      " time = 0.80 \n",
      " error = 4.73e-13\n",
      " time = 1.20 \n",
      " error = 5.58e-13\n",
      " time = 1.60 \n",
      " error = 6.38e-13\n",
      " time = 2.00 \n",
      " error = 7.19e-13\n",
      " time = 2.40 \n",
      " error = 8.06e-13\n",
      " time = 2.80 \n",
      " error = 8.85e-13\n",
      " time = 3.20 \n",
      " error = 9.64e-13\n",
      " time = 3.60 \n",
      " error = 1.05e-12\n",
      " time = 4.00 \n",
      " error = 1.13e-12\n",
      " time = 4.40 \n",
      " error = 1.22e-12\n",
      " time = 4.80 \n",
      " error = 1.3e-12\n",
      " time = 5.20 \n",
      " error = 1.38e-12\n",
      " time = 5.60 \n",
      " error = 1.46e-12\n",
      " time = 6.00 \n",
      " error = 1.55e-12\n",
      " time = 6.40 \n",
      " error = 1.63e-12\n",
      " time = 6.80 \n",
      " error = 1.71e-12\n",
      " time = 7.20 \n",
      " error = 1.79e-12\n",
      " time = 7.60 \n",
      " error = 1.87e-12\n",
      " time = 8.00 \n",
      " error = 1.96e-12\n",
      " time = 8.40 \n",
      " error = 2.04e-12\n",
      " time = 8.80 \n",
      " error = 2.12e-12\n",
      " time = 9.20 \n",
      " error = 2.21e-12\n",
      " time = 9.60 \n",
      " error = 2.29e-12\n",
      " time = 10.00 \n",
      " error = 2.37e-12\n",
      " time = 10.40 \n",
      " error = 2.46e-12\n",
      " time = 10.80 \n",
      " error = 2.54e-12\n",
      " time = 11.20 \n",
      " error = 2.62e-12\n",
      " time = 11.60 \n",
      " error = 2.71e-12\n",
      " time = 12.00 \n",
      " error = 2.78e-12\n",
      " time = 12.40 \n",
      " error = 2.86e-12\n",
      " time = 12.80 \n",
      " error = 2.95e-12\n",
      " time = 13.20 \n",
      " error = 3.03e-12\n",
      " time = 13.60 \n",
      " error = 3.11e-12\n",
      " time = 14.00 \n",
      " error = 3.2e-12\n",
      " time = 14.40 \n",
      " error = 3.26e-12\n",
      " time = 14.80 \n",
      " error = 3.37e-12\n",
      " time = 15.20 \n",
      " error = 3.45e-12\n",
      " time = 15.60 \n",
      " error = 3.53e-12\n",
      " time = 16.00 \n",
      " error = 3.61e-12\n",
      " time = 16.40 \n",
      " error = 3.7e-12\n",
      " time = 16.80 \n",
      " error = 3.78e-12\n",
      " time = 17.20 \n",
      " error = 3.84e-12\n",
      " time = 17.60 \n",
      " error = 3.95e-12\n",
      " time = 18.00 \n",
      " error = 4.01e-12\n",
      " time = 18.40 \n",
      " error = 4.1e-12\n",
      " time = 18.80 \n",
      " error = 4.18e-12\n",
      " time = 19.20 \n",
      " error = 4.26e-12\n",
      " time = 19.60 \n",
      " error = 4.34e-12\n",
      " time = 20.00 \n",
      " error = 4.42e-12\n"
     ]
    }
   ],
   "source": [
    "# Time-stepping\n",
    "u = Function(V)\n",
    "t = 0\n",
    "\n",
    "for n in range(num_steps):\n",
    "    # Update current time\n",
    "    t = round(t + dt, 2)\n",
    "    u_D.t = t #Update time parameter at the boundary\n",
    "\n",
    "    # Compute solution\n",
    "    solve(a == L, u, bc)  \n",
    "    \n",
    "    # Compute error at vertices\n",
    "    u_e = interpolate(u_D, V)\n",
    "    error = np.abs(u_e.vector() - u.vector()).max()\n",
    "    print(' time = %.2f \\n error = %.3g' % (t, error))\n",
    "\n",
    "    # Update previous solution\n",
    "    u_n.assign(u)\n",
    "    #plot(u)\n",
    "    #plt.show()"
   ]
  },
  {
   "cell_type": "code",
   "execution_count": 8,
   "metadata": {},
   "outputs": [
    {
     "data": {
      "application/vnd.jupyter.widget-view+json": {
       "model_id": "9d5509e125144d739b4851921f63acad",
       "version_major": 2,
       "version_minor": 0
      },
      "text/plain": [
       "interactive(children=(FloatSlider(value=10.000000000000002, description='t', max=20.0, min=0.4, step=1.6), Out…"
      ]
     },
     "metadata": {},
     "output_type": "display_data"
    }
   ],
   "source": [
    "@interact\n",
    "def show_solution_time(t = (dt,T,4*dt)):\n",
    "    u_D.t = t\n",
    "    solve(a == L, u, bc)\n",
    "    u_n.assign(u)\n",
    "    return plot(u)"
   ]
  },
  {
   "cell_type": "code",
   "execution_count": null,
   "metadata": {},
   "outputs": [],
   "source": []
  }
 ],
 "metadata": {
  "kernelspec": {
   "display_name": "Python 3",
   "language": "python",
   "name": "python3"
  },
  "language_info": {
   "codemirror_mode": {
    "name": "ipython",
    "version": 3
   },
   "file_extension": ".py",
   "mimetype": "text/x-python",
   "name": "python",
   "nbconvert_exporter": "python",
   "pygments_lexer": "ipython3",
   "version": "3.6.9"
  }
 },
 "nbformat": 4,
 "nbformat_minor": 4
}
