{
 "cells": [
  {
   "cell_type": "markdown",
   "metadata": {},
   "source": [
    "# Import libraries"
   ]
  },
  {
   "cell_type": "code",
   "execution_count": 2,
   "metadata": {},
   "outputs": [],
   "source": [
    "# %load poisson_equation.py\n",
    "import matplotlib.pyplot as plt\n",
    "import numpy as np\n",
    "\n",
    "from fenics import *"
   ]
  },
  {
   "cell_type": "markdown",
   "metadata": {},
   "source": [
    "# Define the problem & Solution\n",
    "\n",
    "+ Mesh\n",
    "+ Function space\n",
    "+ Boundary condition\n",
    "+ Varational problem\n",
    "+ Solution"
   ]
  },
  {
   "cell_type": "code",
   "execution_count": 3,
   "metadata": {},
   "outputs": [],
   "source": [
    "# Create mesh and define function space\n",
    "mesh = UnitSquareMesh(8, 10)\n",
    "V = FunctionSpace(mesh, 'P', 3)\n",
    "\n",
    "# Define boundary condition\n",
    "u_D = Expression('1 + x[0]*x[0] + 2*x[1]*x[1]', degree=2)\n",
    "\n",
    "\n",
    "def boundary(x, on_boundary):\n",
    "    return on_boundary\n",
    "\n",
    "\n",
    "bc = DirichletBC(V, u_D, boundary)\n",
    "\n",
    "# Define Varational problem\n",
    "u = TrialFunction(V)\n",
    "v = TestFunction(V)\n",
    "f = Constant(-6.0)\n",
    "a = dot(grad(u), grad(v))*dx\n",
    "L = f*v*dx\n",
    "\n",
    "# Compute solution\n",
    "u = Function(V)\n",
    "solve(a == L, u, bc)"
   ]
  },
  {
   "cell_type": "markdown",
   "metadata": {},
   "source": [
    "# Solution at nodes"
   ]
  },
  {
   "cell_type": "code",
   "execution_count": 6,
   "metadata": {},
   "outputs": [
    {
     "name": "stdout",
     "output_type": "stream",
     "text": [
      "[ 1.        1.015625  1.0625    1.140625  1.25      1.390625  1.5625\n",
      "  1.765625  2.        1.02      1.035625  1.0825    1.160625  1.27\n",
      "  1.410625  1.5825    1.785625  2.02      1.08      1.095625  1.1425\n",
      "  1.220625  1.33      1.470625  1.6425    1.845625  2.08      1.18\n",
      "  1.195625  1.2425    1.320625  1.43      1.570625  1.7425    1.945625\n",
      "  2.18      1.32      1.335625  1.3825    1.460625  1.57      1.710625\n",
      "  1.8825    2.085625  2.32      1.5       1.515625  1.5625    1.640625\n",
      "  1.75      1.890625  2.0625    2.265625  2.5       1.72      1.735625\n",
      "  1.7825    1.860625  1.97      2.110625  2.2825    2.485625  2.72      1.98\n",
      "  1.995625  2.0425    2.120625  2.23      2.370625  2.5425    2.745625\n",
      "  2.98      2.28      2.295625  2.3425    2.420625  2.53      2.670625\n",
      "  2.8425    3.045625  3.28      2.62      2.635625  2.6825    2.760625\n",
      "  2.87      3.010625  3.1825    3.385625  3.62      3.        3.015625\n",
      "  3.0625    3.140625  3.25      3.390625  3.5625    3.765625  4.      ]\n"
     ]
    }
   ],
   "source": [
    "#nodal_values_u = u.vector()\n",
    "#array_u = nodal_values_u.array()\n",
    "#array_u\n",
    "#nodal_values_u\n",
    "\n",
    "# Values at all the vertices of the mesh\n",
    "vertex_value_u = u.compute_vertex_values(mesh)\n",
    "print(vertex_value_u)"
   ]
  },
  {
   "cell_type": "markdown",
   "metadata": {},
   "source": [
    "# Compute Errors\n",
    "\n",
    "$\\text{Error} = \\sqrt{\\int _ {\\Omega} (u_D-u)^2dx }$ "
   ]
  },
  {
   "cell_type": "code",
   "execution_count": 7,
   "metadata": {},
   "outputs": [
    {
     "name": "stdout",
     "output_type": "stream",
     "text": [
      "Error L2: 3.589918671394497e-13\n",
      "Error max: 6.45261621912e-13\n"
     ]
    }
   ],
   "source": [
    "# Compute error in L2 norm\n",
    "error_L2 = errornorm(u_D, u, 'L2')\n",
    "\n",
    "# Compute maximum error at vertices\n",
    "vertex_value_u_D = u_D.compute_vertex_values(mesh)\n",
    "vertex_value_u = u.compute_vertex_values(mesh)\n",
    "error_max = np.max(np.abs(vertex_value_u_D - vertex_value_u))\n",
    "\n",
    "# Print errors\n",
    "#print('u:', vertex_value_u)\n",
    "print('Error L2:', error_L2)\n",
    "print('Error max:', error_max)"
   ]
  },
  {
   "cell_type": "markdown",
   "metadata": {},
   "source": [
    "# Export solution to SVK file"
   ]
  },
  {
   "cell_type": "code",
   "execution_count": 8,
   "metadata": {},
   "outputs": [],
   "source": [
    "# Save solution to file in VTK format\n",
    "vtkfile = File('poisson/solution.pvd')\n",
    "vtkfile << u"
   ]
  },
  {
   "cell_type": "markdown",
   "metadata": {},
   "source": [
    "# Plot solution"
   ]
  },
  {
   "cell_type": "code",
   "execution_count": 9,
   "metadata": {},
   "outputs": [
    {
     "data": {
      "image/png": "[encoded data removed]",
      "text/plain": [
       "<Figure size 432x288 with 1 Axes>"
      ]
     },
     "metadata": {
      "needs_background": "light"
     },
     "output_type": "display_data"
    }
   ],
   "source": [
    "# Plot solution and mesh\n",
    "%matplotlib inline\n",
    "plot(u)\n",
    "plt.show()\n",
    "#plt.savefig('poissonEq.png')"
   ]
  },
  {
   "cell_type": "code",
   "execution_count": null,
   "metadata": {},
   "outputs": [],
   "source": []
  }
 ],
 "metadata": {
  "kernelspec": {
   "display_name": "Python 3",
   "language": "python",
   "name": "python3"
  },
  "language_info": {
   "codemirror_mode": {
    "name": "ipython",
    "version": 3
   },
   "file_extension": ".py",
   "mimetype": "text/x-python",
   "name": "python",
   "nbconvert_exporter": "python",
   "pygments_lexer": "ipython3",
   "version": "3.6.9"
  }
 },
 "nbformat": 4,
 "nbformat_minor": 4
}
